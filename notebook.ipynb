{
 "cells": [
  {
   "cell_type": "markdown",
   "id": "fe0ea788-58dd-459e-8976-fafdb5c05c6d",
   "metadata": {},
   "source": [
    "![New York City schoolbus](schoolbus.jpg)\n",
    "\n",
    "Photo by [Jannis Lucas](https://unsplash.com/@jannis_lucas) on [Unsplash](https://unsplash.com).\n",
    "<br>\n",
    "\n",
    "Every year, American high school students take SATs, which are standardized tests intended to measure literacy, numeracy, and writing skills. There are three sections - reading, math, and writing, each with a **maximum score of 800 points**. These tests are extremely important for students and colleges, as they play a pivotal role in the admissions process.\n",
    "\n",
    "Analyzing the performance of schools is important for a variety of stakeholders, including policy and education professionals, researchers, government, and even parents considering which school their children should attend. \n",
    "\n",
    "You have been provided with a dataset called `schools.csv`, which is previewed below.\n",
    "\n",
    "You have been tasked with answering three key questions about New York City (NYC) public school SAT performance."
   ]
  },
  {
   "cell_type": "code",
   "execution_count": 11,
   "id": "d0eb4f16-5a99-460d-a5ba-706b7ef0bbe7",
   "metadata": {
    "executionCancelledAt": null,
    "executionTime": 51,
    "id": "bA5ajAmk7XH6",
    "lastExecutedAt": 1746208131358,
    "lastExecutedByKernel": "b60aef73-9adb-4f5f-a9c6-75c233de6cc2",
    "lastScheduledRunId": null,
    "lastSuccessfullyExecutedCode": "# Re-run this cell \nimport pandas as pd\n\n# Read in the data\nschools = pd.read_csv(\"schools.csv\")\n\n# Preview the data\nschools.head()\n\n# Start coding here...\n# Add as many cells as you like...",
    "outputsMetadata": {
     "0": {
      "height": 50,
      "tableState": {
       "customFilter": {
        "const": {
         "type": "boolean",
         "valid": true,
         "value": true
        },
        "id": "b8d0d6dc-1f93-4752-b0a7-dbe30e768b8f",
        "nodeType": "const"
       }
      },
      "type": "dataFrame"
     }
    }
   },
   "outputs": [
    {
     "data": {
      "text/html": [
       "<div>\n",
       "<style scoped>\n",
       "    .dataframe tbody tr th:only-of-type {\n",
       "        vertical-align: middle;\n",
       "    }\n",
       "\n",
       "    .dataframe tbody tr th {\n",
       "        vertical-align: top;\n",
       "    }\n",
       "\n",
       "    .dataframe thead th {\n",
       "        text-align: right;\n",
       "    }\n",
       "</style>\n",
       "<table border=\"1\" class=\"dataframe\">\n",
       "  <thead>\n",
       "    <tr style=\"text-align: right;\">\n",
       "      <th></th>\n",
       "      <th>school_name</th>\n",
       "      <th>borough</th>\n",
       "      <th>building_code</th>\n",
       "      <th>average_math</th>\n",
       "      <th>average_reading</th>\n",
       "      <th>average_writing</th>\n",
       "      <th>percent_tested</th>\n",
       "    </tr>\n",
       "  </thead>\n",
       "  <tbody>\n",
       "    <tr>\n",
       "      <th>0</th>\n",
       "      <td>New Explorations into Science, Technology and ...</td>\n",
       "      <td>Manhattan</td>\n",
       "      <td>M022</td>\n",
       "      <td>657</td>\n",
       "      <td>601</td>\n",
       "      <td>601</td>\n",
       "      <td>NaN</td>\n",
       "    </tr>\n",
       "    <tr>\n",
       "      <th>1</th>\n",
       "      <td>Essex Street Academy</td>\n",
       "      <td>Manhattan</td>\n",
       "      <td>M445</td>\n",
       "      <td>395</td>\n",
       "      <td>411</td>\n",
       "      <td>387</td>\n",
       "      <td>78.9</td>\n",
       "    </tr>\n",
       "    <tr>\n",
       "      <th>2</th>\n",
       "      <td>Lower Manhattan Arts Academy</td>\n",
       "      <td>Manhattan</td>\n",
       "      <td>M445</td>\n",
       "      <td>418</td>\n",
       "      <td>428</td>\n",
       "      <td>415</td>\n",
       "      <td>65.1</td>\n",
       "    </tr>\n",
       "    <tr>\n",
       "      <th>3</th>\n",
       "      <td>High School for Dual Language and Asian Studies</td>\n",
       "      <td>Manhattan</td>\n",
       "      <td>M445</td>\n",
       "      <td>613</td>\n",
       "      <td>453</td>\n",
       "      <td>463</td>\n",
       "      <td>95.9</td>\n",
       "    </tr>\n",
       "    <tr>\n",
       "      <th>4</th>\n",
       "      <td>Henry Street School for International Studies</td>\n",
       "      <td>Manhattan</td>\n",
       "      <td>M056</td>\n",
       "      <td>410</td>\n",
       "      <td>406</td>\n",
       "      <td>381</td>\n",
       "      <td>59.7</td>\n",
       "    </tr>\n",
       "  </tbody>\n",
       "</table>\n",
       "</div>"
      ],
      "text/plain": [
       "                                         school_name    borough building_code  \\\n",
       "0  New Explorations into Science, Technology and ...  Manhattan          M022   \n",
       "1                               Essex Street Academy  Manhattan          M445   \n",
       "2                       Lower Manhattan Arts Academy  Manhattan          M445   \n",
       "3    High School for Dual Language and Asian Studies  Manhattan          M445   \n",
       "4      Henry Street School for International Studies  Manhattan          M056   \n",
       "\n",
       "   average_math  average_reading  average_writing  percent_tested  \n",
       "0           657              601              601             NaN  \n",
       "1           395              411              387            78.9  \n",
       "2           418              428              415            65.1  \n",
       "3           613              453              463            95.9  \n",
       "4           410              406              381            59.7  "
      ]
     },
     "execution_count": 11,
     "metadata": {},
     "output_type": "execute_result"
    }
   ],
   "source": [
    "import pandas as pd\n",
    "schools = pd.read_csv(\"schools.csv\")\n",
    "schools.head()"
   ]
  },
  {
   "cell_type": "code",
   "execution_count": 12,
   "id": "c5771025-f6bd-4dc2-a36b-d73b4b8e12df",
   "metadata": {
    "executionCancelledAt": null,
    "executionTime": 52,
    "lastExecutedAt": 1746208131410,
    "lastExecutedByKernel": "b60aef73-9adb-4f5f-a9c6-75c233de6cc2",
    "lastScheduledRunId": null,
    "lastSuccessfullyExecutedCode": "best_math_schools = schools[schools[\"average_math\"] >= 640][[\"school_name\", \"average_math\"]].sort_values(\"average_math\", ascending=False)"
   },
   "outputs": [
    {
     "name": "stdout",
     "output_type": "stream",
     "text": [
      "                                           school_name  average_math\n",
      "88                              Stuyvesant High School           754\n",
      "170                       Bronx High School of Science           714\n",
      "93                 Staten Island Technical High School           711\n",
      "365  Queens High School for the Sciences at York Co...           701\n",
      "68   High School for Mathematics, Science, and Engi...           683\n",
      "280                     Brooklyn Technical High School           682\n",
      "333                        Townsend Harris High School           680\n",
      "174  High School of American Studies at Lehman College           669\n",
      "0    New Explorations into Science, Technology and ...           657\n",
      "45                       Eleanor Roosevelt High School           641\n"
     ]
    }
   ],
   "source": [
    "best_math_schools = schools[schools[\"average_math\"] >= 640][[\"school_name\", \"average_math\"]].sort_values(\"average_math\", ascending=False)\n",
    "print(best_math_schools)"
   ]
  },
  {
   "cell_type": "code",
   "execution_count": 25,
   "id": "853cb576-8a3d-4b65-9c21-66e278fcefc2",
   "metadata": {
    "collapsed": true,
    "executionCancelledAt": null,
    "executionTime": 51,
    "jupyter": {
     "outputs_hidden": true,
     "source_hidden": false
    },
    "lastExecutedAt": 1746208131462,
    "lastExecutedByKernel": "b60aef73-9adb-4f5f-a9c6-75c233de6cc2",
    "lastScheduledRunId": null,
    "lastSuccessfullyExecutedCode": "schools[\"total_SAT\"] = schools[\"average_math\"] + schools[\"average_reading\"] + schools[\"average_writing\"]\ntop_10_schools = schools[[\"school_name\", \"total_SAT\"]].sort_values(\"total_SAT\", ascending=False).head(10)",
    "outputsMetadata": {
     "0": {
      "height": 50,
      "tableState": {
       "customFilter": {
        "const": {
         "type": "boolean",
         "valid": true,
         "value": true
        },
        "id": "e6796324-80e6-4a77-8a72-f1111f6d852f",
        "nodeType": "const"
       }
      },
      "type": "dataFrame"
     }
    }
   },
   "outputs": [
    {
     "name": "stdout",
     "output_type": "stream",
     "text": [
      "0      1859\n",
      "1      1193\n",
      "2      1261\n",
      "3      1529\n",
      "4      1197\n",
      "       ... \n",
      "370    1086\n",
      "371    1114\n",
      "372    1280\n",
      "373    1207\n",
      "374    1716\n",
      "Name: total_SAT, Length: 375, dtype: int64\n",
      "                                           school_name  total_SAT\n",
      "88                              Stuyvesant High School       2144\n",
      "170                       Bronx High School of Science       2041\n",
      "93                 Staten Island Technical High School       2041\n",
      "174  High School of American Studies at Lehman College       2013\n",
      "333                        Townsend Harris High School       1981\n",
      "365  Queens High School for the Sciences at York Co...       1947\n",
      "5                       Bard High School Early College       1914\n",
      "280                     Brooklyn Technical High School       1896\n",
      "45                       Eleanor Roosevelt High School       1889\n",
      "68   High School for Mathematics, Science, and Engi...       1889\n"
     ]
    }
   ],
   "source": [
    "schools[\"total_SAT\"] = schools[\"average_math\"] + schools[\"average_reading\"] + schools[\"average_writing\"]\n",
    "top_10_schools = schools[[\"school_name\", \"total_SAT\"]].sort_values(\"total_SAT\", ascending=False).head(10)\n",
    "print(schools[\"total_SAT\"])\n",
    "print(top_10_schools)"
   ]
  },
  {
   "cell_type": "code",
   "execution_count": 24,
   "id": "2a8f96dc-0faf-4214-b0e1-f40309a36f1a",
   "metadata": {
    "collapsed": false,
    "executionCancelledAt": null,
    "executionTime": 51,
    "jupyter": {
     "outputs_hidden": false,
     "source_hidden": false
    },
    "lastExecutedAt": 1746208131514,
    "lastExecutedByKernel": "b60aef73-9adb-4f5f-a9c6-75c233de6cc2",
    "lastScheduledRunId": null,
    "lastSuccessfullyExecutedCode": "schools[\"std_SAT\"] = schools[\"total_SAT\"].std()\nschools[\"average_SAT\"] = schools[\"total_SAT\"].mean()\nschools[\"num_schools\"] = schools[\"total_SAT\"].value_counts(sort=True)",
    "outputsMetadata": {
     "0": {
      "height": 550,
      "tableState": {
       "customFilter": {
        "const": {
         "type": "boolean",
         "valid": true,
         "value": true
        },
        "id": "e6796324-80e6-4a77-8a72-f1111f6d852f",
        "nodeType": "const"
       }
      },
      "type": "dataFrame"
     }
    }
   },
   "outputs": [
    {
     "name": "stdout",
     "output_type": "stream",
     "text": [
      "0      194.906283\n",
      "1      194.906283\n",
      "2      194.906283\n",
      "3      194.906283\n",
      "4      194.906283\n",
      "          ...    \n",
      "370    194.906283\n",
      "371    194.906283\n",
      "372    194.906283\n",
      "373    194.906283\n",
      "374    194.906283\n",
      "Name: std_SAT, Length: 375, dtype: float64\n",
      "0      1275.906667\n",
      "1      1275.906667\n",
      "2      1275.906667\n",
      "3      1275.906667\n",
      "4      1275.906667\n",
      "          ...     \n",
      "370    1275.906667\n",
      "371    1275.906667\n",
      "372    1275.906667\n",
      "373    1275.906667\n",
      "374    1275.906667\n",
      "Name: average_SAT, Length: 375, dtype: float64\n",
      "0     NaN\n",
      "1     NaN\n",
      "2     NaN\n",
      "3     NaN\n",
      "4     NaN\n",
      "       ..\n",
      "370   NaN\n",
      "371   NaN\n",
      "372   NaN\n",
      "373   NaN\n",
      "374   NaN\n",
      "Name: num_schools, Length: 375, dtype: float64\n"
     ]
    }
   ],
   "source": [
    "schools[\"std_SAT\"] = schools[\"total_SAT\"].std()\n",
    "schools[\"average_SAT\"] = schools[\"total_SAT\"].mean()\n",
    "schools[\"num_schools\"] = schools[\"total_SAT\"].value_counts(sort=True)\n",
    "print(schools[\"std_SAT\"])\n",
    "print(schools[\"average_SAT\"])\n",
    "print(schools[\"num_schools\"])"
   ]
  },
  {
   "cell_type": "code",
   "execution_count": 17,
   "id": "87194ff5-f67b-4dea-b412-629223f77d26",
   "metadata": {
    "executionCancelledAt": null,
    "executionTime": 59,
    "lastExecutedAt": 1746208131574,
    "lastExecutedByKernel": "b60aef73-9adb-4f5f-a9c6-75c233de6cc2",
    "lastScheduledRunId": null,
    "lastSuccessfullyExecutedCode": "borough_stats = schools.groupby(\"borough\").agg(\n    num_schools=(\"school_name\", \"count\"),\n    average_SAT=(\"total_SAT\", \"mean\"),\n    std_SAT=(\"total_SAT\", \"std\"),\n    total_SAT=(\"total_SAT\", \"sum\"))\nmax_std_borough = borough_stats[\"std_SAT\"].idxmax()\nlargest_std_dev = borough_stats.loc[[max_std_borough]].round()\n"
   },
   "outputs": [
    {
     "name": "stdout",
     "output_type": "stream",
     "text": [
      "               num_schools  average_SAT     std_SAT  total_SAT\n",
      "borough                                                       \n",
      "Bronx                   98  1202.724490  150.393901     117867\n",
      "Brooklyn               109  1230.256881  154.868427     134098\n",
      "Manhattan               89  1340.134831  230.294140     119272\n",
      "Queens                  69  1345.478261  195.252899      92838\n",
      "Staten Island           10  1439.000000  222.303596      14390\n",
      "Manhattan\n",
      "           num_schools  average_SAT  std_SAT  total_SAT\n",
      "borough                                                \n",
      "Manhattan           89       1340.0    230.0     119272\n"
     ]
    }
   ],
   "source": [
    "borough_stats = schools.groupby(\"borough\").agg(\n",
    "    num_schools=(\"school_name\", \"count\"),\n",
    "    average_SAT=(\"total_SAT\", \"mean\"),\n",
    "    std_SAT=(\"total_SAT\", \"std\"),\n",
    "    total_SAT=(\"total_SAT\", \"sum\"))\n",
    "max_std_borough = borough_stats[\"std_SAT\"].idxmax()\n",
    "largest_std_dev = borough_stats.loc[[max_std_borough]].round()\n",
    "print(borough_stats)\n",
    "print(max_std_borough)\n",
    "print(largest_std_dev)"
   ]
  }
 ],
 "metadata": {
  "editor": "DataLab",
  "kernelspec": {
   "display_name": "Python 3",
   "language": "python",
   "name": "python3"
  },
  "language_info": {
   "codemirror_mode": {
    "name": "ipython",
    "version": 3
   },
   "file_extension": ".py",
   "mimetype": "text/x-python",
   "name": "python",
   "nbconvert_exporter": "python",
   "pygments_lexer": "ipython3",
   "version": "3.13.3"
  }
 },
 "nbformat": 4,
 "nbformat_minor": 5
}
